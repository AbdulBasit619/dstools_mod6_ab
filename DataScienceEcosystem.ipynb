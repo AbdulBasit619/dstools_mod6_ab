{
  "metadata": {
    "kernelspec": {
      "name": "python",
      "display_name": "Python (Pyodide)",
      "language": "python"
    },
    "language_info": {
      "codemirror_mode": {
        "name": "python",
        "version": 3
      },
      "file_extension": ".py",
      "mimetype": "text/x-python",
      "name": "python",
      "nbconvert_exporter": "python",
      "pygments_lexer": "ipython3",
      "version": "3.8"
    }
  },
  "nbformat_minor": 5,
  "nbformat": 4,
  "cells": [
    {
      "id": "95fd0579-69ec-4b7a-8343-328f712dfe9a",
      "cell_type": "markdown",
      "source": "# Data Science Tools and Ecosystem",
      "metadata": {}
    },
    {
      "id": "5f5ec97b-7fcf-45cb-b289-d7e25acb737b",
      "cell_type": "markdown",
      "source": "In this notebook, Data Science Tools and Ecosystem are summarized.",
      "metadata": {}
    },
    {
      "id": "3682ed02-4a91-4887-967e-ff0ef6bc0c24",
      "cell_type": "markdown",
      "source": "**Objectives:**\n\n- List popular languages for Data Science\n- Describe commonly used libraries in Data Science\n- Identify open-source tools used in Data Science\n- Evaluate simple arithmetic expressions in Python",
      "metadata": {}
    },
    {
      "id": "d0af91af-3386-47b4-b2b1-3815c6cc8054",
      "cell_type": "markdown",
      "source": "Some of the popular languages that Data Scientists use are:",
      "metadata": {}
    },
    {
      "id": "803ab970-0c5b-46fd-8bf8-244674db66c2",
      "cell_type": "markdown",
      "source": "1. Python\n2. R\n3. SQL\n4. Julia",
      "metadata": {}
    },
    {
      "id": "29c00dee-0ca3-4609-a93b-303eca2be54b",
      "cell_type": "markdown",
      "source": "Some of the commonly used libraries used by Data Scientists include:",
      "metadata": {}
    },
    {
      "id": "19c61272-c799-4085-b813-707066e02b1f",
      "cell_type": "markdown",
      "source": "1. Pandas\n2. NumPy\n3. Matplotlib\n4. Scikit-learn",
      "metadata": {}
    },
    {
      "id": "ac00d5e3-d191-447c-a482-10952d433ca6",
      "cell_type": "markdown",
      "source": "| Data Science Tools |\n|--------------------|\n| Jupyter Notebook   |\n| RStudio            |\n| Apache Zeppelin    |\n",
      "metadata": {}
    },
    {
      "id": "baf0a6a6-56ad-458e-ba75-a7da28003998",
      "cell_type": "markdown",
      "source": "### Below are a few examples of evaluating arithmetic expressions in Python",
      "metadata": {}
    },
    {
      "id": "f100c088-4a78-4503-be07-87c7944dc431",
      "cell_type": "code",
      "source": "# This is a simple arithmetic expression to multiply then add integers.\nresult = (3 * 4) + 5\nresult\n",
      "metadata": {
        "trusted": true
      },
      "outputs": [
        {
          "execution_count": 2,
          "output_type": "execute_result",
          "data": {
            "text/plain": "17"
          },
          "metadata": {}
        }
      ],
      "execution_count": 2
    },
    {
      "id": "a86569f3-49d9-4104-9830-c53a5db01581",
      "cell_type": "code",
      "source": "# This will convert 200 minutes to hours by dividing by 60.\nhours = 200 / 60\nhours",
      "metadata": {
        "trusted": true
      },
      "outputs": [
        {
          "execution_count": 3,
          "output_type": "execute_result",
          "data": {
            "text/plain": "3.3333333333333335"
          },
          "metadata": {}
        }
      ],
      "execution_count": 3
    },
    {
      "id": "463ac7bb-2ad8-4dcc-a47c-210af96e6c9c",
      "cell_type": "markdown",
      "source": "## Author\nABDUL BASIT",
      "metadata": {}
    }
  ]
}